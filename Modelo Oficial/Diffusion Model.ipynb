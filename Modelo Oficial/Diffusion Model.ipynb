{
 "cells": [
  {
   "cell_type": "code",
   "execution_count": 1,
   "id": "d1351237",
   "metadata": {},
   "outputs": [
    {
     "name": "stdout",
     "output_type": "stream",
     "text": [
      "Usando device: cuda\n"
     ]
    }
   ],
   "source": [
    "# Importar librerías necesarias\n",
    "import torch\n",
    "import torch.nn as nn\n",
    "import torch.optim as optim\n",
    "from torch.utils.data import DataLoader\n",
    "from torchvision import datasets, transforms\n",
    "import numpy as np\n",
    "import matplotlib.pyplot as plt\n",
    "from tqdm import tqdm\n",
    "\n",
    "# Configurar device\n",
    "device = torch.device(\"cuda\" if torch.cuda.is_available() else \"cpu\")\n",
    "print(f\"Usando device: {device}\")"
   ]
  },
  {
   "cell_type": "code",
   "execution_count": 2,
   "id": "b6cfeb02",
   "metadata": {},
   "outputs": [
    {
     "name": "stdout",
     "output_type": "stream",
     "text": [
      "Downloading http://yann.lecun.com/exdb/mnist/train-images-idx3-ubyte.gz\n",
      "Failed to download (trying next):\n",
      "HTTP Error 404: Not Found\n",
      "\n",
      "Downloading https://ossci-datasets.s3.amazonaws.com/mnist/train-images-idx3-ubyte.gz\n",
      "Failed to download (trying next):\n",
      "HTTP Error 404: Not Found\n",
      "\n",
      "Downloading https://ossci-datasets.s3.amazonaws.com/mnist/train-images-idx3-ubyte.gz\n",
      "Downloading https://ossci-datasets.s3.amazonaws.com/mnist/train-images-idx3-ubyte.gz to ./data\\MNIST\\raw\\train-images-idx3-ubyte.gz\n",
      "Downloading https://ossci-datasets.s3.amazonaws.com/mnist/train-images-idx3-ubyte.gz to ./data\\MNIST\\raw\\train-images-idx3-ubyte.gz\n"
     ]
    },
    {
     "name": "stderr",
     "output_type": "stream",
     "text": [
      "100%|██████████| 9.91M/9.91M [00:02<00:00, 4.57MB/s]\n",
      "\n"
     ]
    },
    {
     "name": "stdout",
     "output_type": "stream",
     "text": [
      "Extracting ./data\\MNIST\\raw\\train-images-idx3-ubyte.gz to ./data\\MNIST\\raw\n",
      "\n",
      "Downloading http://yann.lecun.com/exdb/mnist/train-labels-idx1-ubyte.gz\n",
      "\n",
      "Downloading http://yann.lecun.com/exdb/mnist/train-labels-idx1-ubyte.gz\n",
      "Failed to download (trying next):\n",
      "HTTP Error 404: Not Found\n",
      "\n",
      "Downloading https://ossci-datasets.s3.amazonaws.com/mnist/train-labels-idx1-ubyte.gz\n",
      "Failed to download (trying next):\n",
      "HTTP Error 404: Not Found\n",
      "\n",
      "Downloading https://ossci-datasets.s3.amazonaws.com/mnist/train-labels-idx1-ubyte.gz\n",
      "Downloading https://ossci-datasets.s3.amazonaws.com/mnist/train-labels-idx1-ubyte.gz to ./data\\MNIST\\raw\\train-labels-idx1-ubyte.gz\n",
      "Downloading https://ossci-datasets.s3.amazonaws.com/mnist/train-labels-idx1-ubyte.gz to ./data\\MNIST\\raw\\train-labels-idx1-ubyte.gz\n"
     ]
    },
    {
     "name": "stderr",
     "output_type": "stream",
     "text": [
      "100%|██████████| 28.9k/28.9k [00:00<00:00, 253kB/s]\n",
      "\n"
     ]
    },
    {
     "name": "stdout",
     "output_type": "stream",
     "text": [
      "Extracting ./data\\MNIST\\raw\\train-labels-idx1-ubyte.gz to ./data\\MNIST\\raw\n",
      "\n",
      "Downloading http://yann.lecun.com/exdb/mnist/t10k-images-idx3-ubyte.gz\n",
      "Failed to download (trying next):\n",
      "HTTP Error 404: Not Found\n",
      "\n",
      "Downloading https://ossci-datasets.s3.amazonaws.com/mnist/t10k-images-idx3-ubyte.gz\n",
      "Failed to download (trying next):\n",
      "HTTP Error 404: Not Found\n",
      "\n",
      "Downloading https://ossci-datasets.s3.amazonaws.com/mnist/t10k-images-idx3-ubyte.gz\n",
      "Downloading https://ossci-datasets.s3.amazonaws.com/mnist/t10k-images-idx3-ubyte.gz to ./data\\MNIST\\raw\\t10k-images-idx3-ubyte.gz\n",
      "Downloading https://ossci-datasets.s3.amazonaws.com/mnist/t10k-images-idx3-ubyte.gz to ./data\\MNIST\\raw\\t10k-images-idx3-ubyte.gz\n"
     ]
    },
    {
     "name": "stderr",
     "output_type": "stream",
     "text": [
      "100%|██████████| 1.65M/1.65M [00:00<00:00, 2.50MB/s]\n",
      "\n"
     ]
    },
    {
     "name": "stdout",
     "output_type": "stream",
     "text": [
      "Extracting ./data\\MNIST\\raw\\t10k-images-idx3-ubyte.gz to ./data\\MNIST\\raw\n",
      "\n",
      "Downloading http://yann.lecun.com/exdb/mnist/t10k-labels-idx1-ubyte.gz\n",
      "Failed to download (trying next):\n",
      "HTTP Error 404: Not Found\n",
      "\n",
      "Downloading https://ossci-datasets.s3.amazonaws.com/mnist/t10k-labels-idx1-ubyte.gz\n",
      "Failed to download (trying next):\n",
      "HTTP Error 404: Not Found\n",
      "\n",
      "Downloading https://ossci-datasets.s3.amazonaws.com/mnist/t10k-labels-idx1-ubyte.gz\n",
      "Downloading https://ossci-datasets.s3.amazonaws.com/mnist/t10k-labels-idx1-ubyte.gz to ./data\\MNIST\\raw\\t10k-labels-idx1-ubyte.gz\n",
      "Downloading https://ossci-datasets.s3.amazonaws.com/mnist/t10k-labels-idx1-ubyte.gz to ./data\\MNIST\\raw\\t10k-labels-idx1-ubyte.gz\n"
     ]
    },
    {
     "name": "stderr",
     "output_type": "stream",
     "text": [
      "100%|██████████| 4.54k/4.54k [00:00<00:00, 4.52MB/s]"
     ]
    },
    {
     "name": "stdout",
     "output_type": "stream",
     "text": [
      "Extracting ./data\\MNIST\\raw\\t10k-labels-idx1-ubyte.gz to ./data\\MNIST\\raw\n",
      "\n",
      "Dataset cargado: 60000 imágenes\n"
     ]
    },
    {
     "name": "stderr",
     "output_type": "stream",
     "text": [
      "\n"
     ]
    }
   ],
   "source": [
    "# Cargar dataset MNIST\n",
    "transform = transforms.Compose([\n",
    "    transforms.ToTensor(),\n",
    "    transforms.Normalize((0.5,), (0.5,))  # Normalizar a [-1, 1]\n",
    "])\n",
    "\n",
    "train_dataset = datasets.MNIST(root='./data', train=True, \n",
    "                              download=True, transform=transform)\n",
    "train_loader = DataLoader(train_dataset, batch_size=128, shuffle=True)\n",
    "\n",
    "print(f\"Dataset cargado: {len(train_dataset)} imágenes\")"
   ]
  },
  {
   "cell_type": "markdown",
   "id": "5158c8f1",
   "metadata": {},
   "source": [
    "# cronograma de ruido (noise schedule)\n",
    "\n",
    "- **Timesteps**: número total de pasos en el proceso de difusión. A mayor cantidad, más gradual es el añadido de ruido.\n",
    "- **Betas (β)**: valores que indican la cantidad de ruido añadido en cada paso. Se definen de manera lineal desde un valor inicial muy bajo hasta un valor más alto.\n",
    "- **Alphas (α)**: representan la proporción de señal original que queda después de añadir ruido en cada paso. Se calculan como `1 - β`.\n",
    "- **Alphas_cumprod (α acumulado)**: producto acumulativo de `α` a lo largo de todos los pasos. Indica cuánta señal total queda tras múltiples pasos de ruido.\n",
    "\n",
    "## Función del Cronograma de Ruido\n",
    "\n",
    "1. Se construye un cronograma lineal de betas, que va aumentando gradualmente con cada timestep.\n",
    "2. A partir de las betas se calculan las alphas, que muestran la fracción de señal restante en cada paso.\n",
    "3. Se calcula el producto acumulativo de alphas para saber cuánta señal queda después de muchos pasos de difusión."
   ]
  },
  {
   "cell_type": "code",
   "execution_count": 25,
   "id": "c81e67b0",
   "metadata": {},
   "outputs": [
    {
     "name": "stdout",
     "output_type": "stream",
     "text": [
      "Cronograma de ruido configurado para 1000 pasos\n"
     ]
    }
   ],
   "source": [
    "def get_noise_schedule(timesteps=1000):\n",
    "    beta_start = 0.0001\n",
    "    beta_end = 0.02\n",
    "    \n",
    "    betas = torch.linspace(beta_start, beta_end, timesteps)\n",
    "    \n",
    "    alphas = 1.0 - betas\n",
    "    alphas_cumprod = torch.cumprod(alphas, dim=0)\n",
    "    \n",
    "    return betas, alphas, alphas_cumprod\n",
    "\n",
    "timesteps = 1000\n",
    "betas, alphas, alphas_cumprod = get_noise_schedule(timesteps)\n",
    "\n",
    "print(f\"Cronograma de ruido configurado para {timesteps} pasos\")"
   ]
  },
  {
   "cell_type": "code",
   "execution_count": 26,
   "id": "b7876b6e",
   "metadata": {},
   "outputs": [],
   "source": [
    "# SOLUCIÓN RÁPIDA: Volver al cronograma LINEAL que funcionaba bien 🔧\n",
    "# print(\"🔄 REVIRTIENDO cambios - usando cronograma lineal original que funcionaba...\")\n",
    "\n",
    "# Usar el cronograma lineal original (que funcionaba)\n",
    "# timesteps = 1000\n",
    "# betas, alphas, alphas_cumprod = get_noise_schedule(timesteps)\n",
    "# \n",
    "# print(\"✅ Cronograma LINEAL restaurado\")\n",
    "# print(f\"📊 Usando cronograma que ya sabemos que funciona bien\")\n",
    "# print(f\"🎯 Timesteps: {timesteps}\")\n",
    "# print(f\"📈 Beta range: {betas.min():.6f} - {betas.max():.6f}\")\n",
    "# \n",
    "# # Verificar que las variables están correctamente asignadas\n",
    "# print(f\"\\n🧪 Verificación rápida:\")\n",
    "# print(f\"   - Betas shape: {betas.shape}\")\n",
    "# print(f\"   - Alphas shape: {alphas.shape}\") \n",
    "# print(f\"   - Alphas_cumprod shape: {alphas_cumprod.shape}\")\n",
    "# print(f\"   - Alphas_cumprod[100]: {alphas_cumprod[100]:.4f}\")\n",
    "# \n",
    "# print(\"\\n✅ Sistema restaurado a configuración funcional anterior\")"
   ]
  },
  {
   "cell_type": "markdown",
   "id": "e8ca44fc",
   "metadata": {},
   "source": [
    "# Proceso Forward de Difusión\n",
    "\n",
    "El **proceso forward** añade ruido progresivamente a las imágenes originales para entrenar el modelo de difusión.\n",
    "\n",
    "## Elementos Clave\n",
    "- **x₀**: imagen original.  \n",
    "- **t**: paso o nivel de ruido.  \n",
    "- **αₜ**: proporción de imagen que queda (de `alphas_cumprod`).  \n",
    "- **ε**: ruido gaussiano.  \n",
    "- **xₜ**: imagen ruidosa en el paso t.  \n",
    "\n",
    "## Fórmula Matemática\n",
    "\n",
    "En el paso **t**, la imagen con ruido se calcula así:\n",
    "\n",
    "$$\n",
    "x_t = \\sqrt{\\alpha_{t}} \\, x_0 \\;+\\; \\sqrt{1 - \\alpha_{t}} \\, \\varepsilon\n",
    "$$\n",
    "\n",
    "donde:\n",
    "- \\(x_t\\): imagen ruidosa en el paso t.  \n",
    "- \\(x_0\\): imagen original.  \n",
    "- \\(\\alpha_t\\): proporción acumulada de imagen que queda.  \n",
    "- \\(\\varepsilon\\): ruido gaussiano añadido.  "
   ]
  },
  {
   "cell_type": "code",
   "execution_count": 27,
   "id": "bbd14d69",
   "metadata": {},
   "outputs": [
    {
     "name": "stdout",
     "output_type": "stream",
     "text": [
      "Proceso forward probado - Forma de entrada: torch.Size([4, 1, 28, 28]), Forma con ruido: torch.Size([4, 1, 28, 28])\n"
     ]
    }
   ],
   "source": [
    "def forward_diffusion(x0, t, alphas_cumprod):\n",
    "    batch_size = x0.shape[0]\n",
    "    \n",
    "    noise = torch.randn_like(x0)\n",
    "    \n",
    "    alpha_cumprod_t = alphas_cumprod[t].view(-1, 1, 1, 1)\n",
    "    \n",
    "    x_t = torch.sqrt(alpha_cumprod_t) * x0 + torch.sqrt(1 - alpha_cumprod_t) * noise\n",
    "    \n",
    "    return x_t, noise\n",
    "\n",
    "x_sample, _ = next(iter(train_loader))\n",
    "x_sample = x_sample[:4]\n",
    "t_sample = torch.randint(0, timesteps, (4,))\n",
    "\n",
    "x_noisy, noise_true = forward_diffusion(x_sample, t_sample, alphas_cumprod)\n",
    "print(f\"Proceso forward probado - Forma de entrada: {x_sample.shape}, Forma con ruido: {x_noisy.shape}\")"
   ]
  },
  {
   "cell_type": "markdown",
   "id": "fc069ec1",
   "metadata": {},
   "source": [
    "# Conditional U-Net\n",
    "\n",
    "## Idea Global\n",
    "- **Imagen con ruido (x)**: masa de galletas.\n",
    "- **Paso t (time)**: cuánto hornear.\n",
    "- **Clase (label)**: forma deseada (estrella, 7…).\n",
    "- **Modelo**: mezcla todo para predecir el ruido o la imagen limpia.\n",
    "\n",
    "## Condicionamiento: dos Embeddings\n",
    "- **Time embedding**: codifica en un vector el paso de ruido \\(t\\) usando senos/cosenos + MLP.  \n",
    "- **Class embedding**: asigna un vector único a cada clase (0–9 + null para incondicional).  \n",
    "- Se concatenan y se procesan en `context_mlp` para un solo **context_emb**.\n",
    "\n",
    "## Fórmula Conceptual del Forward\n",
    "En cada capa se combina la info local y global así:\n",
    "\n",
    "$$\n",
    "h_{\\text{out}} = \\text{Conv}(h_{\\text{in}}) + W_{\\text{proj}} \\, \\text{context\\_emb}\n",
    "$$\n",
    "\n",
    "donde:\n",
    "- \\(h_{\\text{in}}\\): entrada del bloque (mapa de características).\n",
    "- \\(W_{\\text{proj}}\\): proyección lineal del contexto.\n",
    "- \\(\\text{context\\_emb}\\): vector que representa (tiempo + clase).\n",
    "\n",
    "En resumen: este Conditional U-Net toma **imagen ruidosa**, **paso de ruido** y **clase**, y produce una predicción coherente con la clase solicitada.\n"
   ]
  },
  {
   "cell_type": "code",
   "execution_count": 28,
   "id": "0c4ec4f9",
   "metadata": {},
   "outputs": [
    {
     "name": "stdout",
     "output_type": "stream",
     "text": [
      "Modelo CONDICIONAL creado con 32,001,153 parámetros\n",
      "Copiando pesos del modelo incondicional (Transfer Learning)...\n",
      "Transfer Learning exitoso - 101 capas copiadas\n"
     ]
    }
   ],
   "source": [
    "class ConditionalUNet(nn.Module):\n",
    "    def __init__(self, in_channels=1, out_channels=1, time_emb_dim=128, num_classes=10):\n",
    "        super(ConditionalUNet, self).__init__()\n",
    "        \n",
    "        # tamaño del embedding temporal(time embedding)\n",
    "        self.time_emb_dim = time_emb_dim\n",
    "        \n",
    "        # MLP\n",
    "        self.time_mlp = nn.Sequential(\n",
    "            nn.Linear(time_emb_dim, time_emb_dim * 4),\n",
    "            nn.SiLU(),\n",
    "            nn.Linear(time_emb_dim * 4, time_emb_dim)\n",
    "        )\n",
    "        \n",
    "        self.num_classes = num_classes + 1\n",
    "        \n",
    "        # Crea un embedding para cada clase textual\n",
    "        self.class_emb = nn.Embedding(self.num_classes, time_emb_dim)\n",
    "        \n",
    "        # Fusiona tiempo + clase en un solo vector\n",
    "        self.context_mlp = nn.Sequential(\n",
    "            nn.Linear(time_emb_dim * 2, time_emb_dim * 2),\n",
    "            nn.SiLU(),\n",
    "            nn.Linear(time_emb_dim * 2, time_emb_dim)\n",
    "        )\n",
    "        \n",
    "        # Encoder(4 etapas del encoder)\n",
    "        self.enc1 = self._make_layer(in_channels, 64, time_emb_dim)\n",
    "        self.enc2 = self._make_layer(64, 128, time_emb_dim) \n",
    "        self.enc3 = self._make_layer(128, 256, time_emb_dim)\n",
    "        self.enc4 = self._make_layer(256, 512, time_emb_dim)\n",
    "        \n",
    "        # Bottleneck\n",
    "        self.bottleneck = self._make_layer(512, 1024, time_emb_dim)\n",
    "        \n",
    "        # Decoder con skip connections(4 etapas del decoder)\n",
    "        self.dec1 = self._make_layer(1024 + 512, 512, time_emb_dim)\n",
    "        self.dec2 = self._make_layer(512 + 256, 256, time_emb_dim) \n",
    "        self.dec3 = self._make_layer(256 + 128, 128, time_emb_dim)\n",
    "        self.dec4 = self._make_layer(128 + 64, 64, time_emb_dim)\n",
    "        \n",
    "        # Output layer\n",
    "        self.final = nn.Conv2d(64, out_channels, 1)\n",
    "        \n",
    "        # Pooling y upsampling\n",
    "        self.pool = nn.MaxPool2d(2) # Reduce la imagen a la mitad\n",
    "        self.up = nn.Upsample(scale_factor=2, mode='bilinear', align_corners=True) # Aumenta el tamaño al doble\n",
    "        \n",
    "    # Crea un bloque e red\n",
    "    def _make_layer(self, in_ch, out_ch, time_emb_dim):\n",
    "        return nn.ModuleDict({\n",
    "            'conv1': nn.Conv2d(in_ch, out_ch, 3, padding=1),\n",
    "            'norm1': nn.GroupNorm(8, out_ch),\n",
    "            'conv2': nn.Conv2d(out_ch, out_ch, 3, padding=1), \n",
    "            'norm2': nn.GroupNorm(8, out_ch),\n",
    "            'time_proj': nn.Linear(time_emb_dim, out_ch), # para inyectar el embedding en cada bloque\n",
    "            'act': nn.SiLU()\n",
    "        })\n",
    "    \n",
    "    # Aplica el contexto a cada bloque\n",
    "    def _forward_layer(self, x, context_emb, layer):\n",
    "        h = layer['act'](layer['norm1'](layer['conv1'](x))) # Procesa la imagen con la primera convolucion\n",
    "        \n",
    "        # Inyecta el embedding de contexto\n",
    "        context_proj = layer['time_proj'](context_emb)\n",
    "        context_proj = context_proj.unsqueeze(-1).unsqueeze(-1)\n",
    "        h = h + context_proj\n",
    "        \n",
    "        h = layer['act'](layer['norm2'](layer['conv2'](h))) # Se refina la informacion en la segunda convolucion\n",
    "        \n",
    "        return h\n",
    "    \n",
    "    # COnvierte un timestep en un vector con seno y coseno para capturar posiciciones\n",
    "    def get_time_embedding(self, timesteps):\n",
    "        half_dim = self.time_emb_dim // 2\n",
    "        emb = torch.log(torch.tensor(10000.0)) / (half_dim - 1)\n",
    "        emb = torch.exp(torch.arange(half_dim, device=timesteps.device) * -emb)\n",
    "        emb = timesteps[:, None] * emb[None, :]\n",
    "        emb = torch.cat([torch.sin(emb), torch.cos(emb)], dim=1)\n",
    "        return emb\n",
    "    \n",
    "    def forward(self, x, t, class_labels=None):\n",
    "        t_emb = self.get_time_embedding(t.float()) \n",
    "        t_emb = self.time_mlp(t_emb)\n",
    "        \n",
    "        if class_labels is not None:\n",
    "            c_emb = self.class_emb(class_labels)\n",
    "        else:\n",
    "            null_class = torch.full((x.shape[0],), self.num_classes - 1, device=x.device)\n",
    "            c_emb = self.class_emb(null_class)\n",
    "        \n",
    "        context_emb = torch.cat([t_emb, c_emb], dim=1)\n",
    "        context_emb = self.context_mlp(context_emb)\n",
    "        \n",
    "        e1 = self._forward_layer(x, context_emb, self.enc1)\n",
    "        e2 = self._forward_layer(self.pool(e1), context_emb, self.enc2) \n",
    "        e3 = self._forward_layer(self.pool(e2), context_emb, self.enc3)\n",
    "        e4 = self._forward_layer(self.pool(e3), context_emb, self.enc4)\n",
    "        \n",
    "        b = self._forward_layer(self.pool(e4), context_emb, self.bottleneck)\n",
    "        \n",
    "        d1 = self.up(b)\n",
    "        d1 = nn.functional.interpolate(d1, size=e4.shape[2:], mode='bilinear', align_corners=True)\n",
    "        d1 = torch.cat([d1, e4], dim=1)\n",
    "        d1 = self._forward_layer(d1, context_emb, self.dec1)\n",
    "        \n",
    "        d2 = self.up(d1)\n",
    "        d2 = nn.functional.interpolate(d2, size=e3.shape[2:], mode='bilinear', align_corners=True)\n",
    "        d2 = torch.cat([d2, e3], dim=1)\n",
    "        d2 = self._forward_layer(d2, context_emb, self.dec2)\n",
    "        \n",
    "        d3 = self.up(d2)\n",
    "        d3 = torch.cat([d3, e2], dim=1)\n",
    "        d3 = self._forward_layer(d3, context_emb, self.dec3)\n",
    "        \n",
    "        d4 = self.up(d3)\n",
    "        d4 = torch.cat([d4, e1], dim=1) \n",
    "        d4 = self._forward_layer(d4, context_emb, self.dec4)\n",
    "        \n",
    "        out = self.final(d4)\n",
    "        \n",
    "        return out\n",
    "\n",
    "conditional_model = ConditionalUNet().to(device)\n",
    "total_params = sum(p.numel() for p in conditional_model.parameters())\n",
    "print(f\"Modelo CONDICIONAL creado con {total_params:,} parámetros\")\n",
    "\n",
    "print(\"Copiando pesos del modelo incondicional (Transfer Learning)...\")\n",
    "try:\n",
    "    old_state_dict = model.state_dict()\n",
    "    new_state_dict = conditional_model.state_dict()\n",
    "    \n",
    "    copied_weights = 0\n",
    "    for key in old_state_dict:\n",
    "        if key in new_state_dict and old_state_dict[key].shape == new_state_dict[key].shape:\n",
    "            new_state_dict[key] = old_state_dict[key].clone()\n",
    "            copied_weights += 1\n",
    "    \n",
    "    conditional_model.load_state_dict(new_state_dict)\n",
    "    print(f\"Transfer Learning exitoso - {copied_weights} capas copiadas\")\n",
    "    \n",
    "    model = conditional_model\n",
    "    \n",
    "except Exception as e:\n",
    "    print(f\"Transfer learning parcial - continuando con inicialización aleatoria\")\n",
    "    model = conditional_model\n",
    "\n",
    "class_names = {\n",
    "    0: \"cero\", 1: \"uno\", 2: \"dos\", 3: \"tres\", 4: \"cuatro\",\n",
    "    5: \"cinco\", 6: \"seis\", 7: \"siete\", 8: \"ocho\", 9: \"nueve\"\n",
    "}\n",
    "\n",
    "# print(\"\\nProbando el modelo CONDICIONAL...\")\n",
    "# with torch.no_grad():\n",
    "#     test_x = torch.randn(3, 1, 28, 28).to(device)\n",
    "#     test_t = torch.randint(0, 1000, (3,)).to(device)\n",
    "#     test_classes = torch.tensor([0, 5, 9]).to(device)\n",
    "#     \n",
    "#     test_output_cond = model(test_x, test_t, test_classes)\n",
    "#     print(f\"Test CONDICIONAL exitoso - Input: {test_x.shape}, Output: {test_output_cond.shape}\")\n",
    "#     print(f\"Condicionado a clases: {test_classes.cpu().tolist()}\")\n",
    "#     \n",
    "#     test_output_uncond = model(test_x, test_t, None)\n",
    "#     print(f\"Test INCONDICIONAL exitoso - Output: {test_output_uncond.shape}\")\n",
    "#     print(f\"Diferencia entre condicional e incondicional: {(test_output_cond - test_output_uncond).abs().mean().item():.4f}\")\n",
    "# \n",
    "# print(\"\\nModelo condicional listo para entrenar!\")\n",
    "# print(\"Ahora puedes generar dígitos específicos: 'genera un 7', 'genera un 0', etc.\")"
   ]
  },
  {
   "cell_type": "code",
   "execution_count": 29,
   "id": "e6b54986",
   "metadata": {},
   "outputs": [],
   "source": [
    "optimizer = optim.Adam(model.parameters(), lr=1e-3)\n",
    "criterion = nn.MSELoss()\n",
    "\n",
    "def conditional_train_step(model, x0, labels, t, alphas_cumprod, optimizer, cfg_prob=0.1):\n",
    "    optimizer.zero_grad()\n",
    "    \n",
    "    # Añade ruido a la imagen original\n",
    "    x_t, noise_true = forward_diffusion(x0, t, alphas_cumprod)\n",
    "    \n",
    "    x_t = x_t.to(device)\n",
    "    t = t.to(device)\n",
    "    labels = labels.to(device)\n",
    "    noise_true = noise_true.to(device)\n",
    "    \n",
    "    # Condicional o Incondicional\n",
    "    if torch.rand(1).item() < cfg_prob:\n",
    "        noise_pred = model(x_t, t, None)\n",
    "    else:\n",
    "        noise_pred = model(x_t, t, labels)\n",
    "    \n",
    "    loss = criterion(noise_pred, noise_true)\n",
    "    \n",
    "    loss.backward()\n",
    "    optimizer.step()\n",
    "    \n",
    "    return loss.item()"
   ]
  },
  {
   "cell_type": "code",
   "execution_count": null,
   "id": "d24e6f94",
   "metadata": {},
   "outputs": [
    {
     "name": "stdout",
     "output_type": "stream",
     "text": [
      "🚀 Iniciando entrenamiento CONDICIONAL...\n",
      "📝 El modelo aprenderá a generar dígitos específicos según las etiquetas\n"
     ]
    },
    {
     "name": "stderr",
     "output_type": "stream",
     "text": [
      "Época 1/15:   0%|          | 2/469 [00:00<02:17,  3.40it/s]"
     ]
    },
    {
     "name": "stdout",
     "output_type": "stream",
     "text": [
      "  Batch 0, Loss: 0.2046\n"
     ]
    },
    {
     "name": "stderr",
     "output_type": "stream",
     "text": [
      "Época 1/15:  22%|██▏       | 102/469 [00:15<00:56,  6.48it/s]"
     ]
    },
    {
     "name": "stdout",
     "output_type": "stream",
     "text": [
      "  Batch 100, Loss: 0.0278\n"
     ]
    },
    {
     "name": "stderr",
     "output_type": "stream",
     "text": [
      "Época 1/15:  43%|████▎     | 202/469 [00:31<00:40,  6.59it/s]"
     ]
    },
    {
     "name": "stdout",
     "output_type": "stream",
     "text": [
      "  Batch 200, Loss: 0.0246\n"
     ]
    },
    {
     "name": "stderr",
     "output_type": "stream",
     "text": [
      "Época 1/15:  64%|██████▍   | 302/469 [00:46<00:25,  6.57it/s]"
     ]
    },
    {
     "name": "stdout",
     "output_type": "stream",
     "text": [
      "  Batch 300, Loss: 0.0289\n"
     ]
    },
    {
     "name": "stderr",
     "output_type": "stream",
     "text": [
      "Época 1/15:  86%|████████▌ | 402/469 [01:01<00:10,  6.57it/s]"
     ]
    },
    {
     "name": "stdout",
     "output_type": "stream",
     "text": [
      "  Batch 400, Loss: 0.0241\n"
     ]
    },
    {
     "name": "stderr",
     "output_type": "stream",
     "text": [
      "Época 1/15: 100%|██████████| 469/469 [01:11<00:00,  6.53it/s]\n",
      "Época 1/15: 100%|██████████| 469/469 [01:11<00:00,  6.53it/s]\n"
     ]
    },
    {
     "name": "stdout",
     "output_type": "stream",
     "text": [
      "Época 1 completada - Loss promedio: 0.0295\n"
     ]
    },
    {
     "name": "stderr",
     "output_type": "stream",
     "text": [
      "Época 2/15:   0%|          | 1/469 [00:00<01:10,  6.60it/s]"
     ]
    },
    {
     "name": "stdout",
     "output_type": "stream",
     "text": [
      "  Batch 0, Loss: 0.0316\n"
     ]
    },
    {
     "name": "stderr",
     "output_type": "stream",
     "text": [
      "Época 2/15:  22%|██▏       | 102/469 [00:15<00:55,  6.59it/s]"
     ]
    },
    {
     "name": "stdout",
     "output_type": "stream",
     "text": [
      "  Batch 100, Loss: 0.0270\n"
     ]
    },
    {
     "name": "stderr",
     "output_type": "stream",
     "text": [
      "Época 2/15:  43%|████▎     | 202/469 [00:30<00:40,  6.53it/s]"
     ]
    },
    {
     "name": "stdout",
     "output_type": "stream",
     "text": [
      "  Batch 200, Loss: 0.0192\n"
     ]
    },
    {
     "name": "stderr",
     "output_type": "stream",
     "text": [
      "Época 2/15:  64%|██████▍   | 302/469 [00:46<00:25,  6.65it/s]"
     ]
    },
    {
     "name": "stdout",
     "output_type": "stream",
     "text": [
      "  Batch 300, Loss: 0.0231\n"
     ]
    },
    {
     "name": "stderr",
     "output_type": "stream",
     "text": [
      "Época 2/15:  86%|████████▌ | 402/469 [01:01<00:10,  6.38it/s]"
     ]
    },
    {
     "name": "stdout",
     "output_type": "stream",
     "text": [
      "  Batch 400, Loss: 0.0272\n"
     ]
    },
    {
     "name": "stderr",
     "output_type": "stream",
     "text": [
      "Época 2/15: 100%|██████████| 469/469 [01:11<00:00,  6.53it/s]\n",
      "Época 2/15: 100%|██████████| 469/469 [01:11<00:00,  6.53it/s]\n"
     ]
    },
    {
     "name": "stdout",
     "output_type": "stream",
     "text": [
      "Época 2 completada - Loss promedio: 0.0246\n"
     ]
    },
    {
     "name": "stderr",
     "output_type": "stream",
     "text": [
      "Época 3/15:   0%|          | 1/469 [00:00<01:13,  6.40it/s]"
     ]
    },
    {
     "name": "stdout",
     "output_type": "stream",
     "text": [
      "  Batch 0, Loss: 0.0228\n"
     ]
    },
    {
     "name": "stderr",
     "output_type": "stream",
     "text": [
      "Época 3/15:  22%|██▏       | 102/469 [00:15<00:55,  6.62it/s]"
     ]
    },
    {
     "name": "stdout",
     "output_type": "stream",
     "text": [
      "  Batch 100, Loss: 0.0191\n"
     ]
    },
    {
     "name": "stderr",
     "output_type": "stream",
     "text": [
      "Época 3/15:  43%|████▎     | 202/469 [00:30<00:40,  6.65it/s]"
     ]
    },
    {
     "name": "stdout",
     "output_type": "stream",
     "text": [
      "  Batch 200, Loss: 0.0194\n"
     ]
    },
    {
     "name": "stderr",
     "output_type": "stream",
     "text": [
      "Época 3/15:  64%|██████▍   | 302/469 [00:46<00:25,  6.46it/s]"
     ]
    },
    {
     "name": "stdout",
     "output_type": "stream",
     "text": [
      "  Batch 300, Loss: 0.0192\n"
     ]
    },
    {
     "name": "stderr",
     "output_type": "stream",
     "text": [
      "Época 3/15:  86%|████████▌ | 402/469 [01:01<00:10,  6.52it/s]"
     ]
    },
    {
     "name": "stdout",
     "output_type": "stream",
     "text": [
      "  Batch 400, Loss: 0.0291\n"
     ]
    },
    {
     "name": "stderr",
     "output_type": "stream",
     "text": [
      "Época 3/15: 100%|██████████| 469/469 [01:11<00:00,  6.54it/s]\n",
      "Época 3/15: 100%|██████████| 469/469 [01:11<00:00,  6.54it/s]\n"
     ]
    },
    {
     "name": "stdout",
     "output_type": "stream",
     "text": [
      "Época 3 completada - Loss promedio: 0.0237\n"
     ]
    },
    {
     "name": "stderr",
     "output_type": "stream",
     "text": [
      "Época 4/15:   0%|          | 1/469 [00:00<01:11,  6.53it/s]"
     ]
    },
    {
     "name": "stdout",
     "output_type": "stream",
     "text": [
      "  Batch 0, Loss: 0.0234\n"
     ]
    },
    {
     "name": "stderr",
     "output_type": "stream",
     "text": [
      "Época 4/15:  22%|██▏       | 102/469 [00:15<00:55,  6.58it/s]"
     ]
    },
    {
     "name": "stdout",
     "output_type": "stream",
     "text": [
      "  Batch 100, Loss: 0.0243\n"
     ]
    },
    {
     "name": "stderr",
     "output_type": "stream",
     "text": [
      "Época 4/15:  43%|████▎     | 202/469 [00:30<00:41,  6.51it/s]"
     ]
    },
    {
     "name": "stdout",
     "output_type": "stream",
     "text": [
      "  Batch 200, Loss: 0.0233\n"
     ]
    },
    {
     "name": "stderr",
     "output_type": "stream",
     "text": [
      "Época 4/15:  64%|██████▍   | 302/469 [00:45<00:25,  6.58it/s]"
     ]
    },
    {
     "name": "stdout",
     "output_type": "stream",
     "text": [
      "  Batch 300, Loss: 0.0204\n"
     ]
    },
    {
     "name": "stderr",
     "output_type": "stream",
     "text": [
      "Época 4/15:  86%|████████▌ | 402/469 [01:01<00:10,  6.64it/s]"
     ]
    },
    {
     "name": "stdout",
     "output_type": "stream",
     "text": [
      "  Batch 400, Loss: 0.0221\n"
     ]
    },
    {
     "name": "stderr",
     "output_type": "stream",
     "text": [
      "Época 4/15: 100%|██████████| 469/469 [01:11<00:00,  6.57it/s]\n",
      "Época 4/15: 100%|██████████| 469/469 [01:11<00:00,  6.57it/s]\n"
     ]
    },
    {
     "name": "stdout",
     "output_type": "stream",
     "text": [
      "Época 4 completada - Loss promedio: 0.0237\n"
     ]
    },
    {
     "name": "stderr",
     "output_type": "stream",
     "text": [
      "Época 5/15:   0%|          | 1/469 [00:00<01:11,  6.51it/s]"
     ]
    },
    {
     "name": "stdout",
     "output_type": "stream",
     "text": [
      "  Batch 0, Loss: 0.0216\n"
     ]
    },
    {
     "name": "stderr",
     "output_type": "stream",
     "text": [
      "Época 5/15:  22%|██▏       | 102/469 [00:15<00:55,  6.59it/s]"
     ]
    },
    {
     "name": "stdout",
     "output_type": "stream",
     "text": [
      "  Batch 100, Loss: 0.0247\n"
     ]
    },
    {
     "name": "stderr",
     "output_type": "stream",
     "text": [
      "Época 5/15:  43%|████▎     | 202/469 [00:30<00:41,  6.46it/s]"
     ]
    },
    {
     "name": "stdout",
     "output_type": "stream",
     "text": [
      "  Batch 200, Loss: 0.0270\n"
     ]
    },
    {
     "name": "stderr",
     "output_type": "stream",
     "text": [
      "Época 5/15:  64%|██████▍   | 302/469 [00:45<00:25,  6.61it/s]"
     ]
    },
    {
     "name": "stdout",
     "output_type": "stream",
     "text": [
      "  Batch 300, Loss: 0.0185\n"
     ]
    },
    {
     "name": "stderr",
     "output_type": "stream",
     "text": [
      "Época 5/15:  86%|████████▌ | 402/469 [01:00<00:10,  6.59it/s]"
     ]
    },
    {
     "name": "stdout",
     "output_type": "stream",
     "text": [
      "  Batch 400, Loss: 0.0237\n"
     ]
    },
    {
     "name": "stderr",
     "output_type": "stream",
     "text": [
      "Época 5/15: 100%|██████████| 469/469 [01:11<00:00,  6.59it/s]\n",
      "Época 5/15: 100%|██████████| 469/469 [01:11<00:00,  6.59it/s]\n"
     ]
    },
    {
     "name": "stdout",
     "output_type": "stream",
     "text": [
      "Época 5 completada - Loss promedio: 0.0235\n",
      "🧪 Probando generación condicional en época 5...\n",
      "   📊 Diferencia condicional vs incondicional: 0.0313\n",
      "   ✅ Modelo está aprendiendo condicionamiento!\n"
     ]
    },
    {
     "name": "stderr",
     "output_type": "stream",
     "text": [
      "Época 6/15:   0%|          | 1/469 [00:00<01:14,  6.28it/s]"
     ]
    },
    {
     "name": "stdout",
     "output_type": "stream",
     "text": [
      "  Batch 0, Loss: 0.0250\n"
     ]
    },
    {
     "name": "stderr",
     "output_type": "stream",
     "text": [
      "Época 6/15:  22%|██▏       | 102/469 [00:15<00:56,  6.55it/s]"
     ]
    },
    {
     "name": "stdout",
     "output_type": "stream",
     "text": [
      "  Batch 100, Loss: 0.0228\n"
     ]
    },
    {
     "name": "stderr",
     "output_type": "stream",
     "text": [
      "Época 6/15:  43%|████▎     | 202/469 [00:30<00:40,  6.53it/s]"
     ]
    },
    {
     "name": "stdout",
     "output_type": "stream",
     "text": [
      "  Batch 200, Loss: 0.0257\n"
     ]
    },
    {
     "name": "stderr",
     "output_type": "stream",
     "text": [
      "Época 6/15:  64%|██████▍   | 302/469 [00:46<00:25,  6.47it/s]"
     ]
    },
    {
     "name": "stdout",
     "output_type": "stream",
     "text": [
      "  Batch 300, Loss: 0.0240\n"
     ]
    },
    {
     "name": "stderr",
     "output_type": "stream",
     "text": [
      "Época 6/15:  86%|████████▌ | 402/469 [01:01<00:10,  6.45it/s]"
     ]
    },
    {
     "name": "stdout",
     "output_type": "stream",
     "text": [
      "  Batch 400, Loss: 0.0196\n"
     ]
    },
    {
     "name": "stderr",
     "output_type": "stream",
     "text": [
      "Época 6/15: 100%|██████████| 469/469 [01:11<00:00,  6.54it/s]\n",
      "Época 6/15: 100%|██████████| 469/469 [01:11<00:00,  6.54it/s]\n"
     ]
    },
    {
     "name": "stdout",
     "output_type": "stream",
     "text": [
      "Época 6 completada - Loss promedio: 0.0228\n"
     ]
    },
    {
     "name": "stderr",
     "output_type": "stream",
     "text": [
      "Época 7/15:   0%|          | 1/469 [00:00<01:11,  6.53it/s]"
     ]
    },
    {
     "name": "stdout",
     "output_type": "stream",
     "text": [
      "  Batch 0, Loss: 0.0237\n"
     ]
    },
    {
     "name": "stderr",
     "output_type": "stream",
     "text": [
      "Época 7/15:  22%|██▏       | 102/469 [00:15<00:56,  6.55it/s]"
     ]
    },
    {
     "name": "stdout",
     "output_type": "stream",
     "text": [
      "  Batch 100, Loss: 0.0200\n"
     ]
    },
    {
     "name": "stderr",
     "output_type": "stream",
     "text": [
      "Época 7/15:  43%|████▎     | 202/469 [00:30<00:41,  6.47it/s]"
     ]
    },
    {
     "name": "stdout",
     "output_type": "stream",
     "text": [
      "  Batch 200, Loss: 0.0221\n"
     ]
    },
    {
     "name": "stderr",
     "output_type": "stream",
     "text": [
      "Época 7/15:  64%|██████▍   | 302/469 [00:46<00:25,  6.55it/s]"
     ]
    },
    {
     "name": "stdout",
     "output_type": "stream",
     "text": [
      "  Batch 300, Loss: 0.0181\n"
     ]
    },
    {
     "name": "stderr",
     "output_type": "stream",
     "text": [
      "Época 7/15:  86%|████████▌ | 402/469 [01:01<00:10,  6.60it/s]"
     ]
    },
    {
     "name": "stdout",
     "output_type": "stream",
     "text": [
      "  Batch 400, Loss: 0.0208\n"
     ]
    },
    {
     "name": "stderr",
     "output_type": "stream",
     "text": [
      "Época 7/15: 100%|██████████| 469/469 [01:11<00:00,  6.55it/s]\n",
      "Época 7/15: 100%|██████████| 469/469 [01:11<00:00,  6.55it/s]\n"
     ]
    },
    {
     "name": "stdout",
     "output_type": "stream",
     "text": [
      "Época 7 completada - Loss promedio: 0.0232\n"
     ]
    },
    {
     "name": "stderr",
     "output_type": "stream",
     "text": [
      "Época 8/15:   0%|          | 1/469 [00:00<01:10,  6.63it/s]"
     ]
    },
    {
     "name": "stdout",
     "output_type": "stream",
     "text": [
      "  Batch 0, Loss: 0.0226\n"
     ]
    },
    {
     "name": "stderr",
     "output_type": "stream",
     "text": [
      "Época 8/15:  22%|██▏       | 102/469 [00:15<00:56,  6.54it/s]"
     ]
    },
    {
     "name": "stdout",
     "output_type": "stream",
     "text": [
      "  Batch 100, Loss: 0.0209\n"
     ]
    },
    {
     "name": "stderr",
     "output_type": "stream",
     "text": [
      "Época 8/15:  43%|████▎     | 202/469 [00:30<00:40,  6.64it/s]"
     ]
    },
    {
     "name": "stdout",
     "output_type": "stream",
     "text": [
      "  Batch 200, Loss: 0.0258\n"
     ]
    },
    {
     "name": "stderr",
     "output_type": "stream",
     "text": [
      "Época 8/15:  64%|██████▍   | 302/469 [00:46<00:25,  6.57it/s]"
     ]
    },
    {
     "name": "stdout",
     "output_type": "stream",
     "text": [
      "  Batch 300, Loss: 0.0231\n"
     ]
    },
    {
     "name": "stderr",
     "output_type": "stream",
     "text": [
      "Época 8/15:  86%|████████▌ | 402/469 [01:01<00:10,  6.61it/s]"
     ]
    },
    {
     "name": "stdout",
     "output_type": "stream",
     "text": [
      "  Batch 400, Loss: 0.0211\n"
     ]
    },
    {
     "name": "stderr",
     "output_type": "stream",
     "text": [
      "Época 8/15: 100%|██████████| 469/469 [01:11<00:00,  6.56it/s]\n",
      "Época 8/15: 100%|██████████| 469/469 [01:11<00:00,  6.56it/s]\n"
     ]
    },
    {
     "name": "stdout",
     "output_type": "stream",
     "text": [
      "Época 8 completada - Loss promedio: 0.0229\n"
     ]
    },
    {
     "name": "stderr",
     "output_type": "stream",
     "text": [
      "Época 9/15:   0%|          | 1/469 [00:00<01:11,  6.56it/s]"
     ]
    },
    {
     "name": "stdout",
     "output_type": "stream",
     "text": [
      "  Batch 0, Loss: 0.0253\n"
     ]
    },
    {
     "name": "stderr",
     "output_type": "stream",
     "text": [
      "Época 9/15:  22%|██▏       | 102/469 [00:15<00:54,  6.68it/s]"
     ]
    },
    {
     "name": "stdout",
     "output_type": "stream",
     "text": [
      "  Batch 100, Loss: 0.0241\n"
     ]
    },
    {
     "name": "stderr",
     "output_type": "stream",
     "text": [
      "Época 9/15:  43%|████▎     | 202/469 [00:30<00:41,  6.50it/s]"
     ]
    },
    {
     "name": "stdout",
     "output_type": "stream",
     "text": [
      "  Batch 200, Loss: 0.0234\n"
     ]
    },
    {
     "name": "stderr",
     "output_type": "stream",
     "text": [
      "Época 9/15:  64%|██████▍   | 302/469 [00:46<00:25,  6.53it/s]"
     ]
    },
    {
     "name": "stdout",
     "output_type": "stream",
     "text": [
      "  Batch 300, Loss: 0.0205\n"
     ]
    },
    {
     "name": "stderr",
     "output_type": "stream",
     "text": [
      "Época 9/15:  86%|████████▌ | 402/469 [01:01<00:10,  6.60it/s]"
     ]
    },
    {
     "name": "stdout",
     "output_type": "stream",
     "text": [
      "  Batch 400, Loss: 0.0259\n"
     ]
    },
    {
     "name": "stderr",
     "output_type": "stream",
     "text": [
      "Época 9/15: 100%|██████████| 469/469 [01:11<00:00,  6.55it/s]\n",
      "Época 9/15: 100%|██████████| 469/469 [01:11<00:00,  6.55it/s]\n"
     ]
    },
    {
     "name": "stdout",
     "output_type": "stream",
     "text": [
      "Época 9 completada - Loss promedio: 0.0227\n"
     ]
    },
    {
     "name": "stderr",
     "output_type": "stream",
     "text": [
      "Época 10/15:   0%|          | 1/469 [00:00<01:15,  6.22it/s]"
     ]
    },
    {
     "name": "stdout",
     "output_type": "stream",
     "text": [
      "  Batch 0, Loss: 0.0231\n"
     ]
    },
    {
     "name": "stderr",
     "output_type": "stream",
     "text": [
      "Época 10/15:  22%|██▏       | 102/469 [00:15<00:55,  6.61it/s]"
     ]
    },
    {
     "name": "stdout",
     "output_type": "stream",
     "text": [
      "  Batch 100, Loss: 0.0253\n"
     ]
    },
    {
     "name": "stderr",
     "output_type": "stream",
     "text": [
      "Época 10/15:  43%|████▎     | 202/469 [00:31<00:40,  6.56it/s]"
     ]
    },
    {
     "name": "stdout",
     "output_type": "stream",
     "text": [
      "  Batch 200, Loss: 0.0262\n"
     ]
    },
    {
     "name": "stderr",
     "output_type": "stream",
     "text": [
      "Época 10/15:  64%|██████▍   | 302/469 [00:46<00:25,  6.59it/s]"
     ]
    },
    {
     "name": "stdout",
     "output_type": "stream",
     "text": [
      "  Batch 300, Loss: 0.0247\n"
     ]
    },
    {
     "name": "stderr",
     "output_type": "stream",
     "text": [
      "Época 10/15:  86%|████████▌ | 402/469 [01:01<00:10,  6.50it/s]"
     ]
    },
    {
     "name": "stdout",
     "output_type": "stream",
     "text": [
      "  Batch 400, Loss: 0.0192\n"
     ]
    },
    {
     "name": "stderr",
     "output_type": "stream",
     "text": [
      "Época 10/15: 100%|██████████| 469/469 [01:11<00:00,  6.51it/s]\n",
      "Época 10/15: 100%|██████████| 469/469 [01:11<00:00,  6.51it/s]\n"
     ]
    },
    {
     "name": "stdout",
     "output_type": "stream",
     "text": [
      "Época 10 completada - Loss promedio: 0.0227\n",
      "🧪 Probando generación condicional en época 10...\n",
      "   📊 Diferencia condicional vs incondicional: 0.0278\n",
      "   ✅ Modelo está aprendiendo condicionamiento!\n"
     ]
    },
    {
     "name": "stderr",
     "output_type": "stream",
     "text": [
      "Época 11/15:   0%|          | 1/469 [00:00<01:14,  6.26it/s]"
     ]
    },
    {
     "name": "stdout",
     "output_type": "stream",
     "text": [
      "  Batch 0, Loss: 0.0200\n"
     ]
    },
    {
     "name": "stderr",
     "output_type": "stream",
     "text": [
      "Época 11/15:  22%|██▏       | 102/469 [00:15<00:56,  6.53it/s]"
     ]
    },
    {
     "name": "stdout",
     "output_type": "stream",
     "text": [
      "  Batch 100, Loss: 0.0281\n"
     ]
    },
    {
     "name": "stderr",
     "output_type": "stream",
     "text": [
      "Época 11/15:  43%|████▎     | 202/469 [00:30<00:41,  6.51it/s]"
     ]
    },
    {
     "name": "stdout",
     "output_type": "stream",
     "text": [
      "  Batch 200, Loss: 0.0231\n"
     ]
    },
    {
     "name": "stderr",
     "output_type": "stream",
     "text": [
      "Época 11/15:  64%|██████▍   | 302/469 [00:46<00:25,  6.56it/s]"
     ]
    },
    {
     "name": "stdout",
     "output_type": "stream",
     "text": [
      "  Batch 300, Loss: 0.0187\n"
     ]
    },
    {
     "name": "stderr",
     "output_type": "stream",
     "text": [
      "Época 11/15:  86%|████████▌ | 402/469 [01:01<00:10,  6.58it/s]"
     ]
    },
    {
     "name": "stdout",
     "output_type": "stream",
     "text": [
      "  Batch 400, Loss: 0.0229\n"
     ]
    },
    {
     "name": "stderr",
     "output_type": "stream",
     "text": [
      "Época 11/15: 100%|██████████| 469/469 [01:11<00:00,  6.54it/s]\n",
      "Época 11/15: 100%|██████████| 469/469 [01:11<00:00,  6.54it/s]\n"
     ]
    },
    {
     "name": "stdout",
     "output_type": "stream",
     "text": [
      "Época 11 completada - Loss promedio: 0.0224\n"
     ]
    },
    {
     "name": "stderr",
     "output_type": "stream",
     "text": [
      "Época 12/15:   0%|          | 1/469 [00:00<01:10,  6.62it/s]"
     ]
    },
    {
     "name": "stdout",
     "output_type": "stream",
     "text": [
      "  Batch 0, Loss: 0.0236\n"
     ]
    },
    {
     "name": "stderr",
     "output_type": "stream",
     "text": [
      "Época 12/15:  22%|██▏       | 102/469 [00:15<00:56,  6.51it/s]"
     ]
    },
    {
     "name": "stdout",
     "output_type": "stream",
     "text": [
      "  Batch 100, Loss: 0.0206\n"
     ]
    },
    {
     "name": "stderr",
     "output_type": "stream",
     "text": [
      "Época 12/15:  43%|████▎     | 202/469 [00:30<00:40,  6.56it/s]"
     ]
    },
    {
     "name": "stdout",
     "output_type": "stream",
     "text": [
      "  Batch 200, Loss: 0.0254\n"
     ]
    },
    {
     "name": "stderr",
     "output_type": "stream",
     "text": [
      "Época 12/15:  64%|██████▍   | 302/469 [00:46<00:25,  6.50it/s]"
     ]
    },
    {
     "name": "stdout",
     "output_type": "stream",
     "text": [
      "  Batch 300, Loss: 0.0719\n"
     ]
    },
    {
     "name": "stderr",
     "output_type": "stream",
     "text": [
      "Época 12/15:  86%|████████▌ | 402/469 [01:01<00:10,  6.62it/s]"
     ]
    },
    {
     "name": "stdout",
     "output_type": "stream",
     "text": [
      "  Batch 400, Loss: 0.0310\n"
     ]
    },
    {
     "name": "stderr",
     "output_type": "stream",
     "text": [
      "Época 12/15: 100%|██████████| 469/469 [01:11<00:00,  6.55it/s]\n",
      "Época 12/15: 100%|██████████| 469/469 [01:11<00:00,  6.55it/s]\n"
     ]
    },
    {
     "name": "stdout",
     "output_type": "stream",
     "text": [
      "Época 12 completada - Loss promedio: 0.0277\n"
     ]
    },
    {
     "name": "stderr",
     "output_type": "stream",
     "text": [
      "Época 13/15:   0%|          | 1/469 [00:00<01:10,  6.66it/s]"
     ]
    },
    {
     "name": "stdout",
     "output_type": "stream",
     "text": [
      "  Batch 0, Loss: 0.0237\n"
     ]
    },
    {
     "name": "stderr",
     "output_type": "stream",
     "text": [
      "Época 13/15:  22%|██▏       | 102/469 [00:15<00:56,  6.55it/s]"
     ]
    },
    {
     "name": "stdout",
     "output_type": "stream",
     "text": [
      "  Batch 100, Loss: 0.0218\n"
     ]
    },
    {
     "name": "stderr",
     "output_type": "stream",
     "text": [
      "Época 13/15:  43%|████▎     | 202/469 [00:30<00:41,  6.49it/s]"
     ]
    },
    {
     "name": "stdout",
     "output_type": "stream",
     "text": [
      "  Batch 200, Loss: 0.0247\n"
     ]
    },
    {
     "name": "stderr",
     "output_type": "stream",
     "text": [
      "Época 13/15:  64%|██████▍   | 302/469 [00:46<00:25,  6.54it/s]"
     ]
    },
    {
     "name": "stdout",
     "output_type": "stream",
     "text": [
      "  Batch 300, Loss: 0.0207\n"
     ]
    },
    {
     "name": "stderr",
     "output_type": "stream",
     "text": [
      "Época 13/15:  86%|████████▌ | 402/469 [01:01<00:10,  6.56it/s]"
     ]
    },
    {
     "name": "stdout",
     "output_type": "stream",
     "text": [
      "  Batch 400, Loss: 0.0270\n"
     ]
    },
    {
     "name": "stderr",
     "output_type": "stream",
     "text": [
      "Época 13/15: 100%|██████████| 469/469 [01:11<00:00,  6.53it/s]\n",
      "Época 13/15: 100%|██████████| 469/469 [01:11<00:00,  6.53it/s]\n"
     ]
    },
    {
     "name": "stdout",
     "output_type": "stream",
     "text": [
      "Época 13 completada - Loss promedio: 0.0234\n"
     ]
    },
    {
     "name": "stderr",
     "output_type": "stream",
     "text": [
      "Época 14/15:   0%|          | 1/469 [00:00<01:15,  6.21it/s]"
     ]
    },
    {
     "name": "stdout",
     "output_type": "stream",
     "text": [
      "  Batch 0, Loss: 0.0219\n"
     ]
    },
    {
     "name": "stderr",
     "output_type": "stream",
     "text": [
      "Época 14/15:  22%|██▏       | 102/469 [00:15<00:57,  6.41it/s]"
     ]
    },
    {
     "name": "stdout",
     "output_type": "stream",
     "text": [
      "  Batch 100, Loss: 0.0241\n"
     ]
    },
    {
     "name": "stderr",
     "output_type": "stream",
     "text": [
      "Época 14/15:  43%|████▎     | 202/469 [00:31<00:41,  6.50it/s]"
     ]
    },
    {
     "name": "stdout",
     "output_type": "stream",
     "text": [
      "  Batch 200, Loss: 0.0216\n"
     ]
    },
    {
     "name": "stderr",
     "output_type": "stream",
     "text": [
      "Época 14/15:  64%|██████▍   | 302/469 [00:46<00:25,  6.43it/s]"
     ]
    },
    {
     "name": "stdout",
     "output_type": "stream",
     "text": [
      "  Batch 300, Loss: 0.0217\n"
     ]
    },
    {
     "name": "stderr",
     "output_type": "stream",
     "text": [
      "Época 14/15:  86%|████████▌ | 402/469 [01:02<00:10,  6.39it/s]"
     ]
    },
    {
     "name": "stdout",
     "output_type": "stream",
     "text": [
      "  Batch 400, Loss: 0.0240\n"
     ]
    },
    {
     "name": "stderr",
     "output_type": "stream",
     "text": [
      "Época 14/15: 100%|██████████| 469/469 [01:12<00:00,  6.45it/s]\n",
      "Época 14/15: 100%|██████████| 469/469 [01:12<00:00,  6.45it/s]\n"
     ]
    },
    {
     "name": "stdout",
     "output_type": "stream",
     "text": [
      "Época 14 completada - Loss promedio: 0.0226\n"
     ]
    },
    {
     "name": "stderr",
     "output_type": "stream",
     "text": [
      "Época 15/15:   0%|          | 1/469 [00:00<01:12,  6.46it/s]"
     ]
    },
    {
     "name": "stdout",
     "output_type": "stream",
     "text": [
      "  Batch 0, Loss: 0.0247\n"
     ]
    },
    {
     "name": "stderr",
     "output_type": "stream",
     "text": [
      "Época 15/15:  22%|██▏       | 102/469 [00:15<00:56,  6.51it/s]"
     ]
    },
    {
     "name": "stdout",
     "output_type": "stream",
     "text": [
      "  Batch 100, Loss: 0.0198\n"
     ]
    },
    {
     "name": "stderr",
     "output_type": "stream",
     "text": [
      "Época 15/15:  43%|████▎     | 202/469 [00:31<00:40,  6.59it/s]"
     ]
    },
    {
     "name": "stdout",
     "output_type": "stream",
     "text": [
      "  Batch 200, Loss: 0.0200\n"
     ]
    },
    {
     "name": "stderr",
     "output_type": "stream",
     "text": [
      "Época 15/15:  64%|██████▍   | 302/469 [00:46<00:25,  6.55it/s]"
     ]
    },
    {
     "name": "stdout",
     "output_type": "stream",
     "text": [
      "  Batch 300, Loss: 0.0190\n"
     ]
    },
    {
     "name": "stderr",
     "output_type": "stream",
     "text": [
      "Época 15/15:  86%|████████▌ | 402/469 [01:02<00:10,  6.40it/s]"
     ]
    },
    {
     "name": "stdout",
     "output_type": "stream",
     "text": [
      "  Batch 400, Loss: 0.0218\n"
     ]
    },
    {
     "name": "stderr",
     "output_type": "stream",
     "text": [
      "Época 15/15: 100%|██████████| 469/469 [01:12<00:00,  6.44it/s]"
     ]
    },
    {
     "name": "stdout",
     "output_type": "stream",
     "text": [
      "Época 15 completada - Loss promedio: 0.0221\n",
      "🧪 Probando generación condicional en época 15...\n",
      "   📊 Diferencia condicional vs incondicional: 0.0321\n",
      "   ✅ Modelo está aprendiendo condicionamiento!\n",
      "🎉 Entrenamiento CONDICIONAL completado!\n",
      "🎯 Ahora puedes generar dígitos específicos con prompts textuales\n"
     ]
    },
    {
     "name": "stderr",
     "output_type": "stream",
     "text": [
      "\n"
     ]
    }
   ],
   "source": [
    "epochs = 15\n",
    "losses = []\n",
    "\n",
    "for epoch in range(epochs):\n",
    "    epoch_losses = []\n",
    "    \n",
    "    # Forward, Backward y actualización de pesos por cada batch\n",
    "    for batch_idx, (x0, labels) in enumerate(tqdm(train_loader, desc=f'Época {epoch+1}/{epochs}')):\n",
    "        batch_size = x0.shape[0]\n",
    "        t = torch.randint(0, timesteps, (batch_size,))\n",
    "        loss = conditional_train_step(model, x0, labels, t, alphas_cumprod, optimizer)\n",
    "        epoch_losses.append(loss)\n",
    "        \n",
    "        if batch_idx % 100 == 0:\n",
    "            print(f'  Batch {batch_idx}, Loss: {loss:.4f}')\n",
    "    \n",
    "    avg_loss = np.mean(epoch_losses)\n",
    "    losses.append(avg_loss)\n",
    "    print(f'Época {epoch+1} completada - Loss promedio: {avg_loss:.4f}')\n",
    "    \n",
    "    # Para ver si el modelo esta aprendiendo\n",
    "    if (epoch + 1) % 5 == 0:\n",
    "        print(f\"Probando generación condicional en época {epoch+1}...\")\n",
    "        with torch.no_grad():\n",
    "            test_classes = torch.tensor([0, 1, 2, 3]).to(device)\n",
    "            test_x = torch.randn(4, 1, 28, 28).to(device)\n",
    "            test_t = torch.randint(100, 200, (4,)).to(device)\n",
    "            \n",
    "            cond_output = model(test_x, test_t, test_classes)\n",
    "            uncond_output = model(test_x, test_t, None)\n",
    "            \n",
    "            diff = (cond_output - uncond_output).abs().mean().item()\n",
    "            print(f\"   Diferencia condicional vs incondicional: {diff:.4f}\")\n",
    "            \n",
    "            if diff > 0.001:\n",
    "                print(\"   Modelo está aprendiendo condicionamiento!\")\n",
    "            else:\n",
    "                print(\"   Condicionamiento aún débil, necesita más entrenamiento\")"
   ]
  },
  {
   "cell_type": "code",
   "execution_count": null,
   "id": "6ecd29be",
   "metadata": {},
   "outputs": [
    {
     "name": "stdout",
     "output_type": "stream",
     "text": [
      "🎨 Funciones de generación CONDICIONAL configuradas\n",
      "📸 Ahora verás el proceso de denoising en 5 pasos\n",
      "🎯 Puedes controlar qué dígitos generar\n"
     ]
    }
   ],
   "source": [
    "@torch.no_grad()\n",
    "def conditional_sample_images(model, prompts, n_samples=4, img_size=(1, 28, 28), guidance_scale=7.5, show_process=True):\n",
    "    \n",
    "    model.eval()\n",
    "    \n",
    "    # Empezar con ruido puro\n",
    "    x_t = torch.randn(n_samples, *img_size).to(device)\n",
    "    \n",
    "    # Convertir prompts a tensor\n",
    "    if prompts is not None:\n",
    "        class_labels = torch.tensor(prompts).to(device)\n",
    "    else:\n",
    "        class_labels = None\n",
    "    \n",
    "    process_steps = []\n",
    "    if show_process:\n",
    "        save_at = [999, 750, 500, 250, 0]\n",
    "        \n",
    "    # Proceso de denoising (reverse diffusion)\n",
    "    for i, t in enumerate(tqdm(range(timesteps-1, -1, -1), desc=\"Generando con condicionamiento\")):\n",
    "        t_tensor = torch.full((n_samples,), t).to(device)\n",
    "        \n",
    "        if class_labels is not None and guidance_scale > 1.0:\n",
    "            noise_pred_cond = model(x_t, t_tensor, class_labels)\n",
    "            \n",
    "            noise_pred_uncond = model(x_t, t_tensor, None)\n",
    "            \n",
    "            noise_pred = noise_pred_uncond + guidance_scale * (noise_pred_cond - noise_pred_uncond)\n",
    "        else:\n",
    "            noise_pred = model(x_t, t_tensor, class_labels)\n",
    "        \n",
    "        alpha_t = alphas[t].to(device)\n",
    "        beta_t = betas[t].to(device)\n",
    "        \n",
    "        # Fórmula de denoising\n",
    "        x_t = (x_t - beta_t / torch.sqrt(1 - alphas_cumprod[t].to(device)) * noise_pred) / torch.sqrt(alpha_t)\n",
    "        \n",
    "        # Añadir ruido solo si no estamos en el último paso\n",
    "        if t > 0:\n",
    "            z = torch.randn_like(x_t)\n",
    "            x_t += torch.sqrt(beta_t) * z\n",
    "        \n",
    "        if show_process and t in save_at:\n",
    "            process_steps.append((t, x_t.clone().cpu()))\n",
    "    \n",
    "    if show_process:\n",
    "        return x_t, process_steps\n",
    "    else:\n",
    "        return x_t\n",
    "\n",
    "def plot_denoising_process(process_steps, prompts=None, title=\"Proceso de Denoising\"):\n",
    "    n_steps = len(process_steps)\n",
    "    n_samples = process_steps[0][1].shape[0]\n",
    "    \n",
    "    fig, axes = plt.subplots(n_samples, n_steps, figsize=(n_steps * 3, n_samples * 3))\n",
    "    if n_samples == 1:\n",
    "        axes = axes.reshape(1, -1)\n",
    "    \n",
    "    for sample_idx in range(n_samples):\n",
    "        for step_idx, (timestep, images) in enumerate(process_steps):\n",
    "            # Obtener imagen de este sample y paso\n",
    "            img = images[sample_idx].squeeze()\n",
    "            img_np = (img + 1) / 2  # De [-1, 1] a [0, 1]\n",
    "            img_np = np.clip(img_np, 0, 1)\n",
    "            \n",
    "            # Mostrar imagen\n",
    "            axes[sample_idx, step_idx].imshow(img_np, cmap='gray')\n",
    "            axes[sample_idx, step_idx].axis('off')\n",
    "            \n",
    "            # Título de la columna (timestep)\n",
    "            if sample_idx == 0:\n",
    "                if timestep == 0:\n",
    "                    axes[sample_idx, step_idx].set_title(f\"Final\\n(t={timestep})\", fontsize=10)\n",
    "                else:\n",
    "                    axes[sample_idx, step_idx].set_title(f\"t={timestep}\", fontsize=10)\n",
    "            \n",
    "            # Título de la fila (prompt)\n",
    "            if step_idx == 0 and prompts is not None:\n",
    "                prompt_text = f\"'{class_names[prompts[sample_idx]]}'\" if prompts[sample_idx] in class_names else f\"Clase {prompts[sample_idx]}\"\n",
    "                axes[sample_idx, step_idx].set_ylabel(prompt_text, fontsize=12, rotation=0, ha='right', va='center')\n",
    "    \n",
    "    plt.suptitle(title, fontsize=14, y=1.02)\n",
    "    plt.tight_layout()\n",
    "    plt.show()"
   ]
  },
  {
   "cell_type": "code",
   "execution_count": null,
   "id": "5a0c30fe",
   "metadata": {},
   "outputs": [
    {
     "name": "stdout",
     "output_type": "stream",
     "text": [
      "🎯 EXPERIMENTO 1: Generación Condicional\n",
      "Generando dígitos específicos: 0, 3, 7, 9\n"
     ]
    },
    {
     "name": "stderr",
     "output_type": "stream",
     "text": [
      "🎨 Generando con condicionamiento: 100%|██████████| 1000/1000 [00:12<00:00, 78.87it/s]\n",
      "\n"
     ]
    },
    {
     "name": "stdout",
     "output_type": "stream",
     "text": [
      "📸 Proceso de Denoising (5 pasos):\n"
     ]
    },
    {
     "name": "stderr",
     "output_type": "stream",
     "text": [
      "C:\\Users\\VICTUS hp\\AppData\\Local\\Temp\\ipykernel_13892\\3150446652.py:104: UserWarning: Glyph 127919 (\\N{DIRECT HIT}) missing from current font.\n",
      "  plt.tight_layout()\n",
      "C:\\Users\\VICTUS hp\\AppData\\Roaming\\Python\\Python310\\site-packages\\IPython\\core\\pylabtools.py:170: UserWarning: Glyph 127919 (\\N{DIRECT HIT}) missing from current font.\n",
      "  fig.canvas.print_figure(bytes_io, **kw)\n",
      "C:\\Users\\VICTUS hp\\AppData\\Roaming\\Python\\Python310\\site-packages\\IPython\\core\\pylabtools.py:170: UserWarning: Glyph 127919 (\\N{DIRECT HIT}) missing from current font.\n",
      "  fig.canvas.print_figure(bytes_io, **kw)\n"
     ]
    },
    {
     "data": {
      "image/png": "[encoded data removed]",
      "text/plain": [
       "<Figure size 1500x1200 with 20 Axes>"
      ]
     },
     "metadata": {},
     "output_type": "display_data"
    },
    {
     "name": "stdout",
     "output_type": "stream",
     "text": [
      "✨ Resultados Finales:\n"
     ]
    },
    {
     "name": "stderr",
     "output_type": "stream",
     "text": [
      "C:\\Users\\VICTUS hp\\AppData\\Local\\Temp\\ipykernel_13892\\1023538268.py:23: UserWarning: Glyph 127919 (\\N{DIRECT HIT}) missing from current font.\n",
      "  plt.tight_layout()\n"
     ]
    },
    {
     "data": {
      "image/png": "[encoded data removed]",
      "text/plain": [
       "<Figure size 1200x300 with 4 Axes>"
      ]
     },
     "metadata": {},
     "output_type": "display_data"
    },
    {
     "name": "stdout",
     "output_type": "stream",
     "text": [
      "\n",
      "🎲 EXPERIMENTO 2: Condicional vs Incondicional\n",
      "Comparando generación con y sin condicionamiento...\n"
     ]
    },
    {
     "name": "stderr",
     "output_type": "stream",
     "text": [
      "🎨 Generando con condicionamiento: 100%|██████████| 1000/1000 [00:07<00:00, 137.93it/s]\n",
      "C:\\Users\\VICTUS hp\\AppData\\Local\\Temp\\ipykernel_13892\\1023538268.py:23: UserWarning: Glyph 127922 (\\N{GAME DIE}) missing from current font.\n",
      "  plt.tight_layout()\n",
      "\n",
      "C:\\Users\\VICTUS hp\\AppData\\Local\\Temp\\ipykernel_13892\\1023538268.py:23: UserWarning: Glyph 127922 (\\N{GAME DIE}) missing from current font.\n",
      "  plt.tight_layout()\n",
      "C:\\Users\\VICTUS hp\\AppData\\Roaming\\Python\\Python310\\site-packages\\IPython\\core\\pylabtools.py:170: UserWarning: Glyph 127922 (\\N{GAME DIE}) missing from current font.\n",
      "  fig.canvas.print_figure(bytes_io, **kw)\n",
      "C:\\Users\\VICTUS hp\\AppData\\Roaming\\Python\\Python310\\site-packages\\IPython\\core\\pylabtools.py:170: UserWarning: Glyph 127922 (\\N{GAME DIE}) missing from current font.\n",
      "  fig.canvas.print_figure(bytes_io, **kw)\n"
     ]
    },
    {
     "data": {
      "image/png": "[encoded data removed]",
      "text/plain": [
       "<Figure size 1200x300 with 4 Axes>"
      ]
     },
     "metadata": {},
     "output_type": "display_data"
    },
    {
     "name": "stdout",
     "output_type": "stream",
     "text": [
      "\n",
      "🔧 EXPERIMENTO 3: Diferentes niveles de Guidance\n",
      "Probando diferentes fuerzas de condicionamiento...\n"
     ]
    },
    {
     "name": "stderr",
     "output_type": "stream",
     "text": [
      "🎨 Generando con condicionamiento: 100%|██████████| 1000/1000 [00:05<00:00, 168.00it/s]\n",
      "🎨 Generando con condicionamiento: 100%|██████████| 1000/1000 [00:05<00:00, 168.00it/s]\n",
      "🎨 Generando con condicionamiento: 100%|██████████| 1000/1000 [00:10<00:00, 93.19it/s]\n",
      "🎨 Generando con condicionamiento: 100%|██████████| 1000/1000 [00:10<00:00, 93.19it/s]\n",
      "🎨 Generando con condicionamiento: 100%|██████████| 1000/1000 [00:10<00:00, 92.46it/s]\n",
      "C:\\Users\\VICTUS hp\\AppData\\Local\\Temp\\ipykernel_13892\\1023538268.py:82: UserWarning: Glyph 128295 (\\N{WRENCH}) missing from current font.\n",
      "  plt.tight_layout()\n",
      "\n",
      "C:\\Users\\VICTUS hp\\AppData\\Local\\Temp\\ipykernel_13892\\1023538268.py:82: UserWarning: Glyph 128295 (\\N{WRENCH}) missing from current font.\n",
      "  plt.tight_layout()\n",
      "C:\\Users\\VICTUS hp\\AppData\\Roaming\\Python\\Python310\\site-packages\\IPython\\core\\pylabtools.py:170: UserWarning: Glyph 128295 (\\N{WRENCH}) missing from current font.\n",
      "  fig.canvas.print_figure(bytes_io, **kw)\n",
      "C:\\Users\\VICTUS hp\\AppData\\Roaming\\Python\\Python310\\site-packages\\IPython\\core\\pylabtools.py:170: UserWarning: Glyph 128295 (\\N{WRENCH}) missing from current font.\n",
      "  fig.canvas.print_figure(bytes_io, **kw)\n"
     ]
    },
    {
     "data": {
      "image/png": "[encoded data removed]",
      "text/plain": [
       "<Figure size 1200x400 with 3 Axes>"
      ]
     },
     "metadata": {},
     "output_type": "display_data"
    },
    {
     "name": "stderr",
     "output_type": "stream",
     "text": [
      "C:\\Users\\VICTUS hp\\AppData\\Roaming\\Python\\Python310\\site-packages\\IPython\\core\\pylabtools.py:170: UserWarning: Glyph 128200 (\\N{CHART WITH UPWARDS TREND}) missing from current font.\n",
      "  fig.canvas.print_figure(bytes_io, **kw)\n"
     ]
    },
    {
     "data": {
      "image/png": "[encoded data removed]",
      "text/plain": [
       "<Figure size 1000x400 with 1 Axes>"
      ]
     },
     "metadata": {},
     "output_type": "display_data"
    },
    {
     "name": "stdout",
     "output_type": "stream",
     "text": [
      "🎉 ¡Generación condicional completa!\n",
      "💡 Ahora puedes controlar exactamente qué dígitos generar\n",
      "🎨 El proceso de denoising muestra cómo el ruido se convierte en dígitos específicos\n"
     ]
    }
   ],
   "source": [
    "def plot_final_images(images, prompts=None, title=\"Imágenes Generadas\"):\n",
    "    fig, axes = plt.subplots(1, len(images), figsize=(12, 3))\n",
    "    if len(images) == 1:\n",
    "        axes = [axes]\n",
    "    \n",
    "    for i, img in enumerate(images):\n",
    "        img_np = img.cpu().numpy().squeeze()\n",
    "        img_np = (img_np + 1) / 2\n",
    "        img_np = np.clip(img_np, 0, 1)\n",
    "        \n",
    "        axes[i].imshow(img_np, cmap='gray')\n",
    "        axes[i].axis('off')\n",
    "        \n",
    "        if prompts is not None:\n",
    "            prompt_text = class_names[prompts[i]] if prompts[i] in class_names else f\"Clase {prompts[i]}\"\n",
    "            axes[i].set_title(f\"'{prompt_text}'\", fontsize=12)\n",
    "        else:\n",
    "            axes[i].set_title(f'Imagen {i+1}', fontsize=12)\n",
    "    \n",
    "    plt.suptitle(title, fontsize=14)\n",
    "    plt.tight_layout()\n",
    "    plt.show()\n",
    "\n",
    "print(\"Generación Condicional\")\n",
    "print(\"Generando dígitos específicos: 0, 3, 7, 9\")\n",
    "\n",
    "prompts_specific = [0, 3, 7, 9]\n",
    "final_images, denoising_steps = conditional_sample_images(\n",
    "    model, \n",
    "    prompts=prompts_specific, \n",
    "    n_samples=4, \n",
    "    guidance_scale=7.5,\n",
    "    show_process=True\n",
    ")\n",
    "\n",
    "print(\"Proceso de Denoising (5 pasos):\")\n",
    "plot_denoising_process(denoising_steps, prompts_specific, \"Proceso de Generación Condicional: Ruido → Dígito\")\n",
    "\n",
    "print(\"✨ Resultados Finales:\")\n",
    "plot_final_images(final_images, prompts_specific, \"Dígitos Generados con Condicionamiento Textual\")\n",
    "\n",
    "print(\"\\nCondicional vs Incondicional\"))\n",
    "\n",
    "# Generar sin condicionamiento (aleatorio)\n",
    "final_uncond = conditional_sample_images(model, prompts=None, n_samples=4, show_process=False)\n",
    "plot_final_images(final_uncond, None, \"🎲 Generación Incondicional (Aleatoria)\")\n",
    "\n",
    "print(\"\\nDiferentes niveles de Guidance\")\n",
    "\n",
    "guidance_levels = [1.0, 5.0, 10.0]  # Sin guidance, medio, fuerte\n",
    "prompts_test = [5, 5, 5]  # Mismo dígito con diferentes guidance\n",
    "\n",
    "fig, axes = plt.subplots(1, 3, figsize=(12, 4))\n",
    "for i, guidance in enumerate(guidance_levels):\n",
    "    img_guided = conditional_sample_images(\n",
    "        model, \n",
    "        prompts=prompts_test[i:i+1], \n",
    "        n_samples=1, \n",
    "        guidance_scale=guidance,\n",
    "        show_process=False\n",
    "    )\n",
    "    \n",
    "    img_np = img_guided[0].cpu().numpy().squeeze()\n",
    "    img_np = (img_np + 1) / 2\n",
    "    img_np = np.clip(img_np, 0, 1)\n",
    "    \n",
    "    axes[i].imshow(img_np, cmap='gray')\n",
    "    axes[i].axis('off')\n",
    "    axes[i].set_title(f\"Guidance: {guidance}\\n({'Sin' if guidance == 1.0 else 'Con'} CFG)\", fontsize=11)\n",
    "\n",
    "plt.suptitle(\"Efecto del Classifier-Free Guidance en 'cinco'\", fontsize=14)\n",
    "plt.tight_layout()\n",
    "plt.show()\n",
    "\n",
    "# Mostrar progreso de entrenamiento\n",
    "plt.figure(figsize=(10, 4))\n",
    "plt.plot(losses)\n",
    "plt.title('Pérdida durante Entrenamiento Condicional')\n",
    "plt.xlabel('Época')\n",
    "plt.ylabel('Loss')\n",
    "plt.grid(True, alpha=0.3)\n",
    "plt.show()"
   ]
  }
 ],
 "metadata": {
  "kernelspec": {
   "display_name": "Python 3",
   "language": "python",
   "name": "python3"
  },
  "language_info": {
   "codemirror_mode": {
    "name": "ipython",
    "version": 3
   },
   "file_extension": ".py",
   "mimetype": "text/x-python",
   "name": "python",
   "nbconvert_exporter": "python",
   "pygments_lexer": "ipython3",
   "version": "3.10.11"
  }
 },
 "nbformat": 4,
 "nbformat_minor": 5
}
